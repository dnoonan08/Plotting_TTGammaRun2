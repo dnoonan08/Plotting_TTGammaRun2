{
 "cells": [
  {
   "cell_type": "code",
   "execution_count": 1,
   "metadata": {},
   "outputs": [
    {
     "name": "stdout",
     "output_type": "stream",
     "text": [
      "/uscms_data/d3/npoudyal/TTGammaSemiLeptonic13TeV/CMSSW_10_2_14/src/TTGammaSemiLep_13TeV/Plotting/CombineFitting/AllSFFiles\r\n"
     ]
    }
   ],
   "source": [
    "import uproot\n",
    "!pwd"
   ]
  },
  {
   "cell_type": "code",
   "execution_count": 2,
   "metadata": {},
   "outputs": [],
   "source": [
    "ListOfFiles = [\"fitDiagnosticsCR123_both.root\", \"fitDiagnosticsCR1_both.root\",  \"fitDiagnosticsCR2_both.root\", \"fitDiagnosticsCR3_both.root\",\n",
    "\t\t\t   \"fitDiagnosticsCR4_both.root\", \"fitDiagnosticsCR5_both.root\", \"fitDiagnosticsCR6_both.root\", \"fitDiagnosticsCR7_both.root\",  \"fitDiagnosticsSR8_both.root\"]"
   ]
  },
  {
   "cell_type": "code",
   "execution_count": 3,
   "metadata": {},
   "outputs": [],
   "source": [
    "controlRegionDict ={\"SR8\":\"tight\", \"CR123\":\"looseCRge2e0\", \"CR7\":\"looseCRe3ge2\", \"CR3\":\"looseCRge4e0\", \"CR2\":\"looseCRe3e0\", \n",
    "\t\t\t\t   \"CR4\":\"looseCRe2e1\", \"CR1\":\"looseCRe2e0\", \"CR6\":\"looseCRe2e2\", \"CR5\":\"looseCRe3e1\" }\n",
    "\n",
    "CRDict ={\"SR8\":\"zjetsfSReight\", \"CR123\":\"zjetsfCRall\", \"CR7\":\"zjetsfCRseven\", \"CR3\":\"zjetsfCRthree\", \"CR2\":\"zjetsfCRtwo\", \n",
    "\t\t \"CR4\":\"zjetsfCRfour\", \"CR1\":\"zjetsfCRone\", \"CR6\":\"zjetsfCRsix\", \"CR5\":\"zjetsfCRfive\" }"
   ]
  },
  {
   "cell_type": "code",
   "execution_count": 4,
   "metadata": {},
   "outputs": [],
   "source": [
    "line = \"\"\n",
    "for ifile in ListOfFiles:\n",
    "    itree = uproot.open(\"../Datacard_ZJets_2016/\"+ifile)[\"tree_fit_sb\"]\n",
    "    line += \"ZJetSF_2016_%s = %.3f \\n\"%(controlRegionDict[ifile[14:-10]],itree.array(\"r\"))\n",
    "\n",
    "for ifile in ListOfFiles:\n",
    "    itree = uproot.open(\"../Datacard_ZJets_2017/\"+ifile)[\"tree_fit_sb\"]\n",
    "    line += \"ZJetSF_2017_%s = %.3f \\n\"%(controlRegionDict[ifile[14:-10]],itree.array(\"r\"))\n",
    "    \n",
    "for ifile in ListOfFiles:\n",
    "    itree = uproot.open(\"../Datacard_ZJets_2018/\"+ifile)[\"tree_fit_sb\"]\n",
    "    line += \"ZJetSF_2018_%s = %.3f \\n\"%(controlRegionDict[ifile[14:-10]],itree.array(\"r\"))\n",
    "    \n",
    "with open(\"ZJetSFvalues.py\",\"w\") as _file:\n",
    "    _file.write(line)\n",
    "## copy the file to plotting folder\n",
    "!cp ZJetSFvalues.py /uscms_data/d3/npoudyal/TTGammaSemiLeptonic13TeV/CMSSW_10_2_14/src/TTGammaSemiLep_13TeV/Plotting"
   ]
  },
  {
   "cell_type": "code",
   "execution_count": 5,
   "metadata": {
    "scrolled": true
   },
   "outputs": [
    {
     "name": "stdout",
     "output_type": "stream",
     "text": [
      "ZJetSF_2016_looseCRge2e0 = 1.230 \r\n",
      "ZJetSF_2016_looseCRe2e0 = 1.227 \r\n",
      "ZJetSF_2016_looseCRe3e0 = 1.253 \r\n",
      "ZJetSF_2016_looseCRge4e0 = 1.123 \r\n",
      "ZJetSF_2016_looseCRe2e1 = 1.236 \r\n",
      "ZJetSF_2016_looseCRe3e1 = 1.264 \r\n",
      "ZJetSF_2016_looseCRe2e2 = 1.250 \r\n",
      "ZJetSF_2016_looseCRe3ge2 = 1.305 \r\n",
      "ZJetSF_2016_tight = 1.220 \r\n",
      "ZJetSF_2017_looseCRge2e0 = 1.299 \r\n",
      "ZJetSF_2017_looseCRe2e0 = 1.298 \r\n",
      "ZJetSF_2017_looseCRe3e0 = 1.308 \r\n",
      "ZJetSF_2017_looseCRge4e0 = 1.287 \r\n",
      "ZJetSF_2017_looseCRe2e1 = 1.321 \r\n",
      "ZJetSF_2017_looseCRe3e1 = 1.441 \r\n",
      "ZJetSF_2017_looseCRe2e2 = 1.199 \r\n",
      "ZJetSF_2017_looseCRe3ge2 = 1.292 \r\n",
      "ZJetSF_2017_tight = 1.466 \r\n",
      "ZJetSF_2018_looseCRge2e0 = 1.260 \r\n",
      "ZJetSF_2018_looseCRe2e0 = 1.262 \r\n",
      "ZJetSF_2018_looseCRe3e0 = 1.258 \r\n",
      "ZJetSF_2018_looseCRge4e0 = 1.242 \r\n",
      "ZJetSF_2018_looseCRe2e1 = 1.330 \r\n",
      "ZJetSF_2018_looseCRe3e1 = 1.475 \r\n",
      "ZJetSF_2018_looseCRe2e2 = 1.264 \r\n",
      "ZJetSF_2018_looseCRe3ge2 = 1.382 \r\n",
      "ZJetSF_2018_tight = 1.546 \r\n"
     ]
    }
   ],
   "source": [
    "!cat ZJetSFvalues.py"
   ]
  },
  {
   "cell_type": "code",
   "execution_count": 6,
   "metadata": {},
   "outputs": [],
   "source": [
    "line = \"\"\n",
    "\n",
    "for ifile in ListOfFiles:\n",
    "    itree = uproot.open(\"../Datacard_ZJets_2016/\"+ifile)[\"tree_fit_sb\"]\n",
    "    line += \"\\\\newcommand{\\\\%s} {\\ensuremath{%.3f \\\\substack{-%.3f \\\\\\\\ +%.3f}}}\\n\"%(CRDict[ifile[14:-10]]+\"Sixteen\",itree.array(\"r\"),itree.array(\"rLoErr\"),itree.array(\"rLoErr\"))\n",
    "\n",
    "for ifile in ListOfFiles:\n",
    "    itree = uproot.open(\"../Datacard_ZJets_2017/\"+ifile)[\"tree_fit_sb\"]\n",
    "    line += \"\\\\newcommand{\\\\%s} {\\ensuremath{%.3f \\\\substack{-%.3f \\\\\\\\ +%.3f}}}\\n\"%(CRDict[ifile[14:-10]]+\"Seventeen\",itree.array(\"r\"),itree.array(\"rLoErr\"),itree.array(\"rLoErr\"))\n",
    "\n",
    "for ifile in ListOfFiles:\n",
    "    itree = uproot.open(\"../Datacard_ZJets_2018/\"+ifile)[\"tree_fit_sb\"]\n",
    "    line += \"\\\\newcommand{\\\\%s} {\\ensuremath{%.3f \\\\substack{-%.3f \\\\\\\\ +%.3f}}}\\n\"%(CRDict[ifile[14:-10]]+\"Eighteen\",itree.array(\"r\"),itree.array(\"rLoErr\"),itree.array(\"rLoErr\"))\n",
    "    \n",
    "with open(\"ZJetSFvalues.tex\",\"w\") as _file:\n",
    "    _file.write(line)\n",
    "## copy the file to plotting folder\n",
    "!cp ZJetSFvalues.tex ../AllTexFiles "
   ]
  },
  {
   "cell_type": "code",
   "execution_count": 7,
   "metadata": {
    "scrolled": true
   },
   "outputs": [
    {
     "name": "stdout",
     "output_type": "stream",
     "text": [
      "\\newcommand{\\zjetsfCRallSixteen} {\\ensuremath{1.230 \\substack{-0.002 \\\\ +0.002}}}\r\n",
      "\\newcommand{\\zjetsfCRoneSixteen} {\\ensuremath{1.227 \\substack{-0.003 \\\\ +0.003}}}\r\n",
      "\\newcommand{\\zjetsfCRtwoSixteen} {\\ensuremath{1.253 \\substack{-0.006 \\\\ +0.006}}}\r\n",
      "\\newcommand{\\zjetsfCRthreeSixteen} {\\ensuremath{1.123 \\substack{-0.010 \\\\ +0.010}}}\r\n",
      "\\newcommand{\\zjetsfCRfourSixteen} {\\ensuremath{1.236 \\substack{-0.009 \\\\ +0.009}}}\r\n",
      "\\newcommand{\\zjetsfCRfiveSixteen} {\\ensuremath{1.264 \\substack{-0.017 \\\\ +0.017}}}\r\n",
      "\\newcommand{\\zjetsfCRsixSixteen} {\\ensuremath{1.250 \\substack{-0.031 \\\\ +0.031}}}\r\n",
      "\\newcommand{\\zjetsfCRsevenSixteen} {\\ensuremath{1.305 \\substack{-0.046 \\\\ +0.046}}}\r\n",
      "\\newcommand{\\zjetsfSReightSixteen} {\\ensuremath{1.220 \\substack{-0.023 \\\\ +0.023}}}\r\n",
      "\\newcommand{\\zjetsfCRallSeventeen} {\\ensuremath{1.299 \\substack{-0.003 \\\\ +0.003}}}\r\n",
      "\\newcommand{\\zjetsfCRoneSeventeen} {\\ensuremath{1.298 \\substack{-0.003 \\\\ +0.003}}}\r\n",
      "\\newcommand{\\zjetsfCRtwoSeventeen} {\\ensuremath{1.308 \\substack{-0.007 \\\\ +0.007}}}\r\n",
      "\\newcommand{\\zjetsfCRthreeSeventeen} {\\ensuremath{1.287 \\substack{-0.012 \\\\ +0.012}}}\r\n",
      "\\newcommand{\\zjetsfCRfourSeventeen} {\\ensuremath{1.321 \\substack{-0.011 \\\\ +0.011}}}\r\n",
      "\\newcommand{\\zjetsfCRfiveSeventeen} {\\ensuremath{1.441 \\substack{-0.021 \\\\ +0.021}}}\r\n",
      "\\newcommand{\\zjetsfCRsixSeventeen} {\\ensuremath{1.199 \\substack{-0.030 \\\\ +0.030}}}\r\n",
      "\\newcommand{\\zjetsfCRsevenSeventeen} {\\ensuremath{1.292 \\substack{-0.046 \\\\ +0.046}}}\r\n",
      "\\newcommand{\\zjetsfSReightSeventeen} {\\ensuremath{1.466 \\substack{-0.031 \\\\ +0.031}}}\r\n",
      "\\newcommand{\\zjetsfCRallEighteen} {\\ensuremath{1.260 \\substack{-0.003 \\\\ +0.003}}}\r\n",
      "\\newcommand{\\zjetsfCRoneEighteen} {\\ensuremath{1.262 \\substack{-0.003 \\\\ +0.003}}}\r\n",
      "\\newcommand{\\zjetsfCRtwoEighteen} {\\ensuremath{1.258 \\substack{-0.006 \\\\ +0.006}}}\r\n",
      "\\newcommand{\\zjetsfCRthreeEighteen} {\\ensuremath{1.242 \\substack{-0.011 \\\\ +0.011}}}\r\n",
      "\\newcommand{\\zjetsfCRfourEighteen} {\\ensuremath{1.330 \\substack{-0.010 \\\\ +0.010}}}\r\n",
      "\\newcommand{\\zjetsfCRfiveEighteen} {\\ensuremath{1.475 \\substack{-0.020 \\\\ +0.020}}}\r\n",
      "\\newcommand{\\zjetsfCRsixEighteen} {\\ensuremath{1.264 \\substack{-0.029 \\\\ +0.029}}}\r\n",
      "\\newcommand{\\zjetsfCRsevenEighteen} {\\ensuremath{1.382 \\substack{-0.044 \\\\ +0.044}}}\r\n",
      "\\newcommand{\\zjetsfSReightEighteen} {\\ensuremath{1.546 \\substack{-0.031 \\\\ +0.031}}}\r\n"
     ]
    }
   ],
   "source": [
    "!cat ZJetSFvalues.tex "
   ]
  },
  {
   "cell_type": "code",
   "execution_count": null,
   "metadata": {},
   "outputs": [],
   "source": []
  }
 ],
 "metadata": {
  "kernelspec": {
   "display_name": "Python 2",
   "language": "python",
   "name": "python2"
  },
  "language_info": {
   "codemirror_mode": {
    "name": "ipython",
    "version": 2
   },
   "file_extension": ".py",
   "mimetype": "text/x-python",
   "name": "python",
   "nbconvert_exporter": "python",
   "pygments_lexer": "ipython2",
   "version": "2.7.14+"
  }
 },
 "nbformat": 4,
 "nbformat_minor": 2
}
