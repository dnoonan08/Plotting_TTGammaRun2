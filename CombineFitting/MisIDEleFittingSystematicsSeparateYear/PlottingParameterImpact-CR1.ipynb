{
 "cells": [
  {
   "cell_type": "code",
   "execution_count": null,
   "metadata": {},
   "outputs": [],
   "source": [
    "# !text2workspace.py --help"
   ]
  },
  {
   "cell_type": "code",
   "execution_count": null,
   "metadata": {
    "scrolled": true
   },
   "outputs": [],
   "source": [
    "# %%capture\n",
    "!text2workspace.py  datacard_CR1_ele_2016.txt # saveworkspace while doing fitting and use the rootfile here to make impact plot"
   ]
  },
  {
   "cell_type": "code",
   "execution_count": null,
   "metadata": {},
   "outputs": [],
   "source": [
    "# %%capture\n",
    "# !combine -M FitDiagnostics -n CR123_ele_2016 datacard_CR123_ele_2016.txt  --redefineSignalPOIs r,ZGammaBkgPhotonSF,WGammaBkgPhotonSF  --expectSignal 1 -t -1 --saveNormalizations --saveWithUncertainties --plots --saveWorkspace --toysFrequentist\n",
    "\n",
    "!combine -M FitDiagnostics -n MYTEST -d datacard_CR1_ele_2016.root  -t -1 --expectSignal 2 --saveNormalizations --saveWithUncertainties --plots "
   ]
  },
  {
   "cell_type": "code",
   "execution_count": null,
   "metadata": {
    "scrolled": false
   },
   "outputs": [],
   "source": [
    "# %%capture\n",
    "!combineTool.py -M Impacts -d datacard_CR1_ele_2016.root -m 125 -t -1 --expectSignal 2 --doInitialFit --robustFit 1 \n",
    "!combineTool.py -M Impacts -d datacard_CR1_ele_2016.root -m 125 -t -1 --expectSignal 2 --robustFit 1 --doFits \n",
    "!combineTool.py -M Impacts -d datacard_CR1_ele_2016.root -m 125 -t -1 --expectSignal 2 -o impacts.json\n",
    "!plotImpacts.py -i impacts.json -o impacts\n",
    "from datetime import datetime\n",
    "now = datetime.now() \n",
    "dt_string = now.strftime(\"%d/%m/%Y %H:%M:%S\")\n",
    "print(\"date and time =\", dt_string)\t"
   ]
  },
  {
   "cell_type": "code",
   "execution_count": null,
   "metadata": {},
   "outputs": [],
   "source": [
    "!python /uscms_data/d3/npoudyal/TTGammaSemiLeptonic13TeV/CMSSW_10_2_14/src/HiggsAnalysis/CombinedLimit/test/diffNuisances.py -a -A fitDiagnosticsMYTEST.root -g plots.root "
   ]
  },
  {
   "cell_type": "code",
   "execution_count": null,
   "metadata": {},
   "outputs": [],
   "source": [
    "# !python /uscms_data/d3/npoudyal/TTGammaSemiLeptonic13TeV/CMSSW_10_2_14/src/HiggsAnalysis/CombinedLimit/test/diffNuisances.py -a -A fitDiagnosticsCR123_ele_2016.root -g plots.root "
   ]
  },
  {
   "cell_type": "code",
   "execution_count": null,
   "metadata": {},
   "outputs": [],
   "source": [
    "# !python /uscms_data/d3/npoudyal/TTGammaSemiLeptonic13TeV/CMSSW_10_2_14/src/HiggsAnalysis/CombinedLimit/test/plotTestStatCLs.py --help #--input "
   ]
  },
  {
   "cell_type": "code",
   "execution_count": null,
   "metadata": {},
   "outputs": [],
   "source": [
    "# !python /uscms_data/d3/npoudyal/TTGammaSemiLeptonic13TeV/CMSSW_10_2_14/src/HiggsAnalysis/CombinedLimit/test/systematicsAnalyzer.py -a datacard_CR123_ele_2016.txt"
   ]
  },
  {
   "cell_type": "code",
   "execution_count": null,
   "metadata": {},
   "outputs": [],
   "source": [
    "import ROOT"
   ]
  },
  {
   "cell_type": "code",
   "execution_count": null,
   "metadata": {},
   "outputs": [],
   "source": [
    "f_input_shapes_TH1 = ROOT.TFile(\"../../misIDEle_syst_looseCRge2e0plots_2016/misIDEle_syst_Prefit.root\",\"READ\")\n",
    "f_input_shapes_TH1.cd(\"ele/MisIDEleSixteen\")\n",
    "# f_input_shapes_TH1.ls()"
   ]
  },
  {
   "cell_type": "code",
   "execution_count": null,
   "metadata": {},
   "outputs": [],
   "source": [
    "# %jsroot\n",
    "import ROOT\n",
    "filename = \"../../misIDEle_syst_looseCRge2e0plots_2016/misIDEle_syst_Prefit.root\"\n",
    "systematicList = [\"BTagSF_b\",\"BTagSF_l\",\"MuEff\",\"EleEff\",\"PhoEff\",\"PU\",\"Q2\"] # keep adding more systematics \n",
    "myfile = ROOT.TFile(filename,\"READ\")\n",
    "myDir = {\"ele/MisIDEleSixteen\":\"ele_MisIDEleSixteen\",\"ele/WgammaBkgPhoton\":\"ele_WgammaBkgPhoton\",\"ele/ZgammaBkgPhoton\":\"ele_ZgammaBkgPhoton\",\"ele/OtherSampleBkgPhoton\":\"ele_OtherSampleBkgPhoton\",\n",
    "         \"mu/MisIDEleSixteen\":\"mu_MisIDEleSixteen\",\"mu/WgammaBkgPhoton\":\"mu_WgammaBkgPhoton\",\"mu/ZgammaBkgPhoton\":\"mu_ZgammaBkgPhoton\",\"mu/OtherSampleBkgPhoton\":\"mu_OtherSampleBkgPhoton\"}\n",
    "\n",
    "# myfile.ls()\n",
    "#Note: PhoEff doesn't seem to be normalized.\n",
    "for idir in myDir.keys():\n",
    "    myfile.cd(idir)\n",
    "    for item in systematicList:\n",
    "        h_nominal = myfile.Get(idir+\"/nominal\");h_nominal.SetTitle(\";M_{e,#gamma}(GeV);Events\")\n",
    "        h_nominal.SetLineColor(ROOT.kBlack);h_nominal.SetFillColor(ROOT.kBlack);h_nominal.SetLineWidth(2);h_nominal.SetMarkerStyle(8);\n",
    "        \n",
    "        h_Up = myfile.Get(idir+\"/%sUp\"%item);h_Up.SetTitle(\"\")\n",
    "        h_Up.SetLineColor(ROOT.kRed);h_Up.SetFillColor(ROOT.kRed);h_Up.SetLineWidth(2);h_Up.SetMarkerStyle(4);\n",
    "        \n",
    "        h_Down = myfile.Get(idir+\"/%sDown\"%item);h_Down.SetTitle(\"\")\n",
    "        h_Down.SetLineColor(ROOT.kBlue);h_Down.SetFillColor(ROOT.kBlue);h_Down.SetLineWidth(2);h_Down.SetMarkerStyle(5);\n",
    "        \n",
    "#         print item, \" :: \",h_nominal.Integral(),\"==>\", h_Up.Integral(),\"==>\", h_Down.Integral()\n",
    "        c = ROOT.TCanvas('c','',800,600)\n",
    "        legend = ROOT.TLegend(0.7,0.7,0.88,0.88)\n",
    "        legend.SetBorderSize(0)\n",
    "        legend.SetFillColor(0)\n",
    "        legend.AddEntry(h_nominal,\"nominal\",\"f\")\n",
    "        legend.AddEntry(h_Up,\"%s_Up\"%item,\"f\")\n",
    "        legend.AddEntry(h_Down,\"%s_Down\"%item,\"f\")\n",
    "        # print dir(c)\n",
    "        \n",
    "        h_nominal.Draw()\n",
    "        h_Up.Draw(\"same\")\n",
    "        h_Down.Draw(\"same\")\n",
    "        \n",
    "        legend.Draw(\"same\")\n",
    "        c.Draw()\n",
    "        c.SetTitle(\"\")\n",
    "#         c.Print(\"%s_%s.pdf\"%(myDir[idir],item))\n",
    "        del c"
   ]
  },
  {
   "cell_type": "code",
   "execution_count": null,
   "metadata": {},
   "outputs": [],
   "source": [
    "f_shapes_TH1 = ROOT.TFile(\"datacard_CR123_ele_2016.root\",\"READ\")\n",
    "w_shapes_TH1 = f_shapes_TH1.Get(\"w\")\n",
    "w_shapes_TH1.Print()\n",
    "\n",
    "# The workspace contains \"model_s\" i.e. the likelihood function, which is composed of the observable \"CMS_th1x\" which is split in several channels, the POI \"r\" and several nuisance parameters.\n",
    "# Lets see how combine smoothly morphs the shape of the background as a function of the nuisance parameter alpha:\n",
    "\n",
    "# Channel Compatibility\n",
    "# Lets now compute the best fit signal strength in each category, but with full correlation of all the nuisance parameters. \n",
    "# In order to do that, switch to the terminal and run the following command:\n"
   ]
  },
  {
   "cell_type": "code",
   "execution_count": null,
   "metadata": {},
   "outputs": [],
   "source": [
    "!combine -M AsymptoticLimits datacard_CR123_ele_2016.txt"
   ]
  },
  {
   "cell_type": "code",
   "execution_count": null,
   "metadata": {},
   "outputs": [],
   "source": [
    "import ROOT\n",
    "%jsroot\n",
    "filename = \"../../misIDEle_syst_looseCRge2e0plots_2016/misIDEle_syst_Prefit.root\"\n",
    "myfile = ROOT.TFile(filename,\"READ\")\n",
    "myDir = [\"ele/OtherSampleBkgPhoton\",\"ele/ZgammaBkgPhoton\",\"ele/WgammaBkgPhoton\",\"ele/MisIDEleSixteen\"]\n",
    "#          \"mu/MisIDEleSixteen\":\"mu_MisIDEleSixteen\",\"mu/WgammaBkgPhoton\":\"mu_WgammaBkgPhoton\",\"mu/ZgammaBkgPhoton\":\"mu_ZgammaBkgPhoton\",\"mu/OtherSampleBkgPhoton\":\"mu_OtherSampleBkgPhoton\"}\n",
    "\n",
    "# myfile.ls()\n",
    "#Note: PhoEff doesn't seem to be normalized.\n",
    "canvas = ROOT.TCanvas()\n",
    "stack = ROOT.THStack()\n",
    "for idir in myDir:\n",
    "    myfile.cd(idir)\n",
    "    h_nominal = myfile.Get(idir+\"/nominal\")\n",
    "#     h_nominal.SetLineColor(ROOT.kBlack);h_nominal.SetFillColor(ROOT.kBlack);h_nominal.SetLineWidth(2);h_nominal.SetMarkerStyle(8);      \n",
    "    \n",
    "#     h_nominal.Scale(1.,\"width\")\n",
    "    stack.Add(h_nominal)\n",
    "hist = stack.GetStack().Last().Clone(\"hist\")\n",
    "print hist.GetNbinsX()\n",
    "print hist.Integral()\n",
    "stack.Draw(\"nostack\")\n",
    "canvas.Draw()"
   ]
  },
  {
   "cell_type": "code",
   "execution_count": null,
   "metadata": {},
   "outputs": [],
   "source": []
  }
 ],
 "metadata": {
  "kernelspec": {
   "display_name": "Python 2",
   "language": "python",
   "name": "python2"
  },
  "language_info": {
   "codemirror_mode": {
    "name": "ipython",
    "version": 2
   },
   "file_extension": ".py",
   "mimetype": "text/x-python",
   "name": "python",
   "nbconvert_exporter": "python",
   "pygments_lexer": "ipython2",
   "version": "2.7.14+"
  }
 },
 "nbformat": 4,
 "nbformat_minor": 2
}
