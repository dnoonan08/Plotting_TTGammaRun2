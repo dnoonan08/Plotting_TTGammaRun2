{
 "cells": [
  {
   "cell_type": "code",
   "execution_count": 2,
   "metadata": {},
   "outputs": [
    {
     "name": "stdout",
     "output_type": "stream",
     "text": [
      "Welcome to JupyROOT 6.12/07\n",
      "/uscms_data/d3/npoudyal/TTGammaSemiLeptonic13TeV/CMSSW_10_2_14/src/TTGammaSemiLep_13TeV/Plotting_Nabin/Plotting/CombineFitting/MisIDEleFittingSystematicsSeparateYear\r\n"
     ]
    }
   ],
   "source": [
    "import ROOT\n",
    "!pwd"
   ]
  },
  {
   "cell_type": "code",
   "execution_count": 10,
   "metadata": {},
   "outputs": [],
   "source": [
    "ListOfFiles2016 = [\"fitDiagnosticsCR123_2016.root\", \"fitDiagnosticsCR1_2016.root\",  \"fitDiagnosticsCR2_2016.root\", \"fitDiagnosticsCR3_2016.root\",\"fitDiagnosticsCR4_2016.root\"]\n",
    "ListOfFiles2017 = [\"fitDiagnosticsCR123_2017.root\", \"fitDiagnosticsCR1_2017.root\",  \"fitDiagnosticsCR2_2017.root\", \"fitDiagnosticsCR3_2017.root\",\"fitDiagnosticsCR4_2017.root\"]\n",
    "ListOfFiles2018 = [\"fitDiagnosticsCR123_2018.root\", \"fitDiagnosticsCR1_2018.root\",  \"fitDiagnosticsCR2_2018.root\", \"fitDiagnosticsCR3_2018.root\",\"fitDiagnosticsCR4_2018.root\"]\n"
   ]
  },
  {
   "cell_type": "code",
   "execution_count": 4,
   "metadata": {},
   "outputs": [
    {
     "name": "stdout",
     "output_type": "stream",
     "text": [
      "2.0000019167\n",
      "1.00000051235\n",
      "1.00000461867\n"
     ]
    }
   ],
   "source": [
    "myfile = ROOT.TFile(\"fitDiagnosticsCR123_2016_nbins3.root\",\"read\")\n",
    "fit_s = myfile.Get(\"fit_s\")\n",
    "print fit_s.floatParsFinal().find(\"r\").getVal()\n",
    "print fit_s.floatParsFinal().find(\"WGammaBkgPhotonSF\").getVal()\n",
    "print fit_s.floatParsFinal().find(\"ZGammaBkgPhotonSF\").getVal()"
   ]
  },
  {
   "cell_type": "code",
   "execution_count": 11,
   "metadata": {},
   "outputs": [],
   "source": [
    "controlRegionDict ={\"SR8\":\"tight\", \"CR123\":\"looseCRge2e0\", \"AR\":\"looseCRge2ge0\", \"CR7\":\"looseCRe3ge2\", \"CR3\":\"looseCRge4e0\", \"CR2\":\"looseCRe3e0\", \n",
    "\t\t\t\t   \"CR4\":\"looseCRe2e1\", \"CR1\":\"looseCRe2e0\", \"CR6\":\"looseCRe2e2\", \"CR5\":\"looseCRe3e1\" }\n",
    "\n",
    "\n",
    "CRDictMisID ={\"SR8\":\"misIDsfSReight\", \"CR123\":\"misIDsfCRall\", \"CR7\":\"misIDsfCRseven\", \"CR3\":\"misIDsfCRthree\", \"CR2\":\"misIDsfCRtwo\", \n",
    "\t\t \"CR4\":\"misIDsfCRfour\", \"CR1\":\"misIDsfCRone\", \"CR6\":\"misIDsfCRsix\", \"CR5\":\"misIDsfCRfive\" }\n",
    "\n",
    "CRDictZGamma ={\"SR8\":\"zGammasfSReight\", \"CR123\":\"zGammasfCRall\", \"CR7\":\"zGammasfCRseven\", \"CR3\":\"zGammasfCRthree\", \"CR2\":\"zGammasfCRtwo\", \n",
    "\t\t \"CR4\":\"zGammasfCRfour\", \"CR1\":\"zGammasfCRone\", \"CR6\":\"zGammasfCRsix\", \"CR5\":\"zGammasfCRfive\" }\n",
    "\n",
    "CRDictWGamma ={\"SR8\":\"wGammasfSReight\", \"CR123\":\"wGammasfCRall\", \"CR7\":\"wGammasfCRseven\", \"CR3\":\"wGammasfCRthree\", \"CR2\":\"wGammasfCRtwo\", \n",
    "\t\t \"CR4\":\"wGammasfCRfour\", \"CR1\":\"wGammasfCRone\", \"CR6\":\"wGammasfCRsix\", \"CR5\":\"wGammasfCRfive\" }"
   ]
  },
  {
   "cell_type": "code",
   "execution_count": 12,
   "metadata": {},
   "outputs": [],
   "source": [
    "line = \"\"\n",
    "for ifile in ListOfFiles2016:\n",
    "    myfile = ROOT.TFile(ifile,\"read\")\n",
    "    if myfile.GetListOfKeys().Contains(\"fit_s\") is False:\n",
    "        print ifile[14:-10], \": Fit failed.\"\n",
    "        continue\n",
    "    fit_s = myfile.Get(\"fit_s\")\n",
    "    line += \"MisIDEleSF_2016_%s = %.3f \\n\"%(controlRegionDict[ifile[14:-10]],fit_s.floatParsFinal().find(\"r\").getVal())\n",
    "    line +=   \"ZGammaSF_2016_%s = %.3f \\n\"%(controlRegionDict[ifile[14:-10]],fit_s.floatParsFinal().find(\"ZGammaBkgPhotonSF\").getVal())\n",
    "    line +=   \"WGammaSF_2016_%s = %.3f \\n\"%(controlRegionDict[ifile[14:-10]],fit_s.floatParsFinal().find(\"WGammaBkgPhotonSF\").getVal())\n",
    "\n",
    "for ifile in ListOfFiles2017:\n",
    "    myfile = ROOT.TFile(ifile,\"read\")\n",
    "    if myfile.GetListOfKeys().Contains(\"fit_s\") is False:\n",
    "        print ifile[14:-10], \": Fit failed.\"\n",
    "        continue\n",
    "    fit_s = myfile.Get(\"fit_s\")\n",
    "    line += \"MisIDEleSF_2017_%s = %.3f \\n\"%(controlRegionDict[ifile[14:-10]],fit_s.floatParsFinal().find(\"r\").getVal())\n",
    "    line +=   \"ZGammaSF_2017_%s = %.3f \\n\"%(controlRegionDict[ifile[14:-10]],fit_s.floatParsFinal().find(\"ZGammaBkgPhotonSF\").getVal())\n",
    "    line +=   \"WGammaSF_2017_%s = %.3f \\n\"%(controlRegionDict[ifile[14:-10]],fit_s.floatParsFinal().find(\"WGammaBkgPhotonSF\").getVal())\n",
    "\n",
    "for ifile in ListOfFiles2018:\n",
    "    myfile = ROOT.TFile(ifile,\"read\")\n",
    "    if myfile.GetListOfKeys().Contains(\"fit_s\") is False:\n",
    "        print ifile[14:-10], \": Fit failed.\"\n",
    "        continue\n",
    "    fit_s = myfile.Get(\"fit_s\")\n",
    "    line += \"MisIDEleSF_2018_%s = %.3f \\n\"%(controlRegionDict[ifile[14:-10]],fit_s.floatParsFinal().find(\"r\").getVal())\n",
    "    line +=   \"ZGammaSF_2018_%s = %.3f \\n\"%(controlRegionDict[ifile[14:-10]],fit_s.floatParsFinal().find(\"ZGammaBkgPhotonSF\").getVal())\n",
    "    line +=   \"WGammaSF_2018_%s = %.3f \\n\"%(controlRegionDict[ifile[14:-10]],fit_s.floatParsFinal().find(\"WGammaBkgPhotonSF\").getVal())\n",
    "\n",
    "with open(\"MisIDEleSFvalues.py\",\"w\") as _file:\n",
    "    _file.write(line)\n",
    "\n"
   ]
  },
  {
   "cell_type": "code",
   "execution_count": 13,
   "metadata": {},
   "outputs": [
    {
     "name": "stdout",
     "output_type": "stream",
     "text": [
      "MisIDEleSF_2016_looseCRge2e0 = 2.132 \r\n",
      "ZGammaSF_2016_looseCRge2e0 = 0.984 \r\n",
      "WGammaSF_2016_looseCRge2e0 = 1.191 \r\n",
      "MisIDEleSF_2016_looseCRe2e0 = 2.134 \r\n",
      "ZGammaSF_2016_looseCRe2e0 = 0.919 \r\n",
      "WGammaSF_2016_looseCRe2e0 = 1.264 \r\n",
      "MisIDEleSF_2016_looseCRe3e0 = 2.202 \r\n",
      "ZGammaSF_2016_looseCRe3e0 = 1.179 \r\n",
      "WGammaSF_2016_looseCRe3e0 = 1.006 \r\n",
      "MisIDEleSF_2016_looseCRge4e0 = 2.048 \r\n",
      "ZGammaSF_2016_looseCRge4e0 = 1.314 \r\n",
      "WGammaSF_2016_looseCRge4e0 = 1.313 \r\n",
      "MisIDEleSF_2016_looseCRe2e1 = 2.346 \r\n",
      "ZGammaSF_2016_looseCRe2e1 = 0.952 \r\n",
      "WGammaSF_2016_looseCRe2e1 = 0.948 \r\n",
      "MisIDEleSF_2017_looseCRge2e0 = 2.386 \r\n",
      "ZGammaSF_2017_looseCRge2e0 = 1.097 \r\n",
      "WGammaSF_2017_looseCRge2e0 = 1.402 \r\n",
      "MisIDEleSF_2017_looseCRe2e0 = 2.397 \r\n",
      "ZGammaSF_2017_looseCRe2e0 = 1.062 \r\n",
      "WGammaSF_2017_looseCRe2e0 = 1.311 \r\n",
      "MisIDEleSF_2017_looseCRe3e0 = 2.351 \r\n",
      "ZGammaSF_2017_looseCRe3e0 = 1.080 \r\n",
      "WGammaSF_2017_looseCRe3e0 = 1.727 \r\n",
      "MisIDEleSF_2017_looseCRge4e0 = 2.349 \r\n",
      "ZGammaSF_2017_looseCRge4e0 = 2.647 \r\n",
      "WGammaSF_2017_looseCRge4e0 = 1.350 \r\n",
      "MisIDEleSF_2017_looseCRe2e1 = 2.329 \r\n",
      "ZGammaSF_2017_looseCRe2e1 = 0.775 \r\n",
      "WGammaSF_2017_looseCRe2e1 = 2.504 \r\n",
      "MisIDEleSF_2018_looseCRge2e0 = 1.454 \r\n",
      "ZGammaSF_2018_looseCRge2e0 = 0.943 \r\n",
      "WGammaSF_2018_looseCRge2e0 = 1.574 \r\n",
      "MisIDEleSF_2018_looseCRe2e0 = 1.610 \r\n",
      "ZGammaSF_2018_looseCRe2e0 = 0.798 \r\n",
      "WGammaSF_2018_looseCRe2e0 = 1.575 \r\n",
      "MisIDEleSF_2018_looseCRe3e0 = 1.153 \r\n",
      "ZGammaSF_2018_looseCRe3e0 = 1.608 \r\n",
      "WGammaSF_2018_looseCRe3e0 = 1.413 \r\n",
      "MisIDEleSF_2018_looseCRge4e0 = 1.664 \r\n",
      "ZGammaSF_2018_looseCRge4e0 = 1.569 \r\n",
      "WGammaSF_2018_looseCRge4e0 = 1.857 \r\n",
      "MisIDEleSF_2018_looseCRe2e1 = 1.700 \r\n",
      "ZGammaSF_2018_looseCRe2e1 = 1.218 \r\n",
      "WGammaSF_2018_looseCRe2e1 = 1.487 \r\n"
     ]
    }
   ],
   "source": [
    "!cat MisIDEleSFvalues.py"
   ]
  },
  {
   "cell_type": "code",
   "execution_count": null,
   "metadata": {},
   "outputs": [],
   "source": []
  },
  {
   "cell_type": "code",
   "execution_count": 14,
   "metadata": {},
   "outputs": [
    {
     "name": "stdout",
     "output_type": "stream",
     "text": [
      "MisIDEleSF_2016_looseCRge2e0 = 2.132 \r\n",
      "ZGammaSF_2016_looseCRge2e0 = 0.984 \r\n",
      "WGammaSF_2016_looseCRge2e0 = 1.191 \r\n",
      "MisIDEleSF_2016_looseCRe2e0 = 2.134 \r\n",
      "ZGammaSF_2016_looseCRe2e0 = 0.919 \r\n",
      "WGammaSF_2016_looseCRe2e0 = 1.264 \r\n",
      "MisIDEleSF_2016_looseCRe3e0 = 2.202 \r\n",
      "ZGammaSF_2016_looseCRe3e0 = 1.179 \r\n",
      "WGammaSF_2016_looseCRe3e0 = 1.006 \r\n",
      "MisIDEleSF_2016_looseCRge4e0 = 2.048 \r\n",
      "ZGammaSF_2016_looseCRge4e0 = 1.314 \r\n",
      "WGammaSF_2016_looseCRge4e0 = 1.313 \r\n",
      "MisIDEleSF_2016_looseCRe2e1 = 2.346 \r\n",
      "ZGammaSF_2016_looseCRe2e1 = 0.952 \r\n",
      "WGammaSF_2016_looseCRe2e1 = 0.948 \r\n",
      "MisIDEleSF_2017_looseCRge2e0 = 2.386 \r\n",
      "ZGammaSF_2017_looseCRge2e0 = 1.097 \r\n",
      "WGammaSF_2017_looseCRge2e0 = 1.402 \r\n",
      "MisIDEleSF_2017_looseCRe2e0 = 2.397 \r\n",
      "ZGammaSF_2017_looseCRe2e0 = 1.062 \r\n",
      "WGammaSF_2017_looseCRe2e0 = 1.311 \r\n",
      "MisIDEleSF_2017_looseCRe3e0 = 2.351 \r\n",
      "ZGammaSF_2017_looseCRe3e0 = 1.080 \r\n",
      "WGammaSF_2017_looseCRe3e0 = 1.727 \r\n",
      "MisIDEleSF_2017_looseCRge4e0 = 2.349 \r\n",
      "ZGammaSF_2017_looseCRge4e0 = 2.647 \r\n",
      "WGammaSF_2017_looseCRge4e0 = 1.350 \r\n",
      "MisIDEleSF_2017_looseCRe2e1 = 2.329 \r\n",
      "ZGammaSF_2017_looseCRe2e1 = 0.775 \r\n",
      "WGammaSF_2017_looseCRe2e1 = 2.504 \r\n",
      "MisIDEleSF_2018_looseCRge2e0 = 1.454 \r\n",
      "ZGammaSF_2018_looseCRge2e0 = 0.943 \r\n",
      "WGammaSF_2018_looseCRge2e0 = 1.574 \r\n",
      "MisIDEleSF_2018_looseCRe2e0 = 1.610 \r\n",
      "ZGammaSF_2018_looseCRe2e0 = 0.798 \r\n",
      "WGammaSF_2018_looseCRe2e0 = 1.575 \r\n",
      "MisIDEleSF_2018_looseCRe3e0 = 1.153 \r\n",
      "ZGammaSF_2018_looseCRe3e0 = 1.608 \r\n",
      "WGammaSF_2018_looseCRe3e0 = 1.413 \r\n",
      "MisIDEleSF_2018_looseCRge4e0 = 1.664 \r\n",
      "ZGammaSF_2018_looseCRge4e0 = 1.569 \r\n",
      "WGammaSF_2018_looseCRge4e0 = 1.857 \r\n",
      "MisIDEleSF_2018_looseCRe2e1 = 1.700 \r\n",
      "ZGammaSF_2018_looseCRe2e1 = 1.218 \r\n",
      "WGammaSF_2018_looseCRe2e1 = 1.487 \r\n"
     ]
    }
   ],
   "source": [
    "!cat MisIDEleSFvalues.py\n",
    "\n",
    "# ## copy the file to plotting folder\n",
    "# !cp MisIDEleSFvalues.py /uscms_data/d3/npoudyal/TTGammaSemiLeptonic13TeV/CMSSW_10_2_14/src/TTGammaSemiLep_13TeV/Plotting_Nabin/Plotting/"
   ]
  },
  {
   "cell_type": "code",
   "execution_count": 15,
   "metadata": {},
   "outputs": [],
   "source": [
    "line = \"\"\n",
    "for ifile in ListOfFiles2016:\n",
    "    myfile = ROOT.TFile(ifile,\"read\")\n",
    "    if myfile.GetListOfKeys().Contains(\"fit_s\") is False:\n",
    "        print ifile[14:-10], \": Fit failed.\"\n",
    "        continue\n",
    "    fit_s = myfile.Get(\"fit_s\")\n",
    "    line += \"\\\\newcommand{\\\\%s} {\\ensuremath{%.3f \\\\substack{%.3f \\\\\\\\ +%.3f}}}\\n\"%(CRDictMisID[ifile[14:-10]]+\"Sixteen\",fit_s.floatParsFinal().find(\"r\").getVal(),fit_s.floatParsFinal().find(\"r\").getErrorLo(),fit_s.floatParsFinal().find(\"r\").getErrorHi())\n",
    "    line += \"\\\\newcommand{\\\\%s} {\\ensuremath{%.3f \\\\substack{%.3f \\\\\\\\ +%.3f}}}\\n\"%(CRDictZGamma[ifile[14:-10]]+\"Sixteen\",fit_s.floatParsFinal().find(\"ZGammaBkgPhotonSF\").getVal(),fit_s.floatParsFinal().find(\"r\").getErrorLo(),fit_s.floatParsFinal().find(\"ZGammaBkgPhotonSF\").getErrorHi())\n",
    "    line += \"\\\\newcommand{\\\\%s} {\\ensuremath{%.3f \\\\substack{%.3f \\\\\\\\ +%.3f}}}\\n\"%(CRDictWGamma[ifile[14:-10]]+\"Sixteen\",fit_s.floatParsFinal().find(\"WGammaBkgPhotonSF\").getVal(),fit_s.floatParsFinal().find(\"r\").getErrorLo(),fit_s.floatParsFinal().find(\"WGammaBkgPhotonSF\").getErrorHi())\n",
    "\n",
    "for ifile in ListOfFiles2017:\n",
    "    myfile = ROOT.TFile(ifile,\"read\")\n",
    "    if myfile.GetListOfKeys().Contains(\"fit_s\") is False:\n",
    "        print ifile[14:-10], \": Fit failed.\"\n",
    "        continue\n",
    "    fit_s = myfile.Get(\"fit_s\")\n",
    "    line += \"\\\\newcommand{\\\\%s} {\\ensuremath{%.3f \\\\substack{%.3f \\\\\\\\ +%.3f}}}\\n\"%(CRDictMisID[ifile[14:-10]]+\"Seventeen\",fit_s.floatParsFinal().find(\"r\").getVal(),fit_s.floatParsFinal().find(\"r\").getErrorLo(),fit_s.floatParsFinal().find(\"r\").getErrorHi())\n",
    "    line += \"\\\\newcommand{\\\\%s} {\\ensuremath{%.3f \\\\substack{%.3f \\\\\\\\ +%.3f}}}\\n\"%(CRDictZGamma[ifile[14:-10]]+\"Seventeen\",fit_s.floatParsFinal().find(\"ZGammaBkgPhotonSF\").getVal(),fit_s.floatParsFinal().find(\"r\").getErrorLo(),fit_s.floatParsFinal().find(\"ZGammaBkgPhotonSF\").getErrorHi())\n",
    "    line += \"\\\\newcommand{\\\\%s} {\\ensuremath{%.3f \\\\substack{%.3f \\\\\\\\ +%.3f}}}\\n\"%(CRDictWGamma[ifile[14:-10]]+\"Seventeen\",fit_s.floatParsFinal().find(\"WGammaBkgPhotonSF\").getVal(),fit_s.floatParsFinal().find(\"r\").getErrorLo(),fit_s.floatParsFinal().find(\"WGammaBkgPhotonSF\").getErrorHi())\n",
    "\n",
    "for ifile in ListOfFiles2018:\n",
    "    myfile = ROOT.TFile(ifile,\"read\")\n",
    "    if myfile.GetListOfKeys().Contains(\"fit_s\") is False:\n",
    "        print ifile[14:-10], \": Fit failed.\"\n",
    "        continue\n",
    "    fit_s = myfile.Get(\"fit_s\")\n",
    "    line += \"\\\\newcommand{\\\\%s} {\\ensuremath{%.3f \\\\substack{%.3f \\\\\\\\ +%.3f}}}\\n\"%(CRDictMisID[ifile[14:-10]]+\"Eighteen\",fit_s.floatParsFinal().find(\"r\").getVal(),fit_s.floatParsFinal().find(\"r\").getErrorLo(),fit_s.floatParsFinal().find(\"r\").getErrorHi())\n",
    "    line += \"\\\\newcommand{\\\\%s} {\\ensuremath{%.3f \\\\substack{%.3f \\\\\\\\ +%.3f}}}\\n\"%(CRDictZGamma[ifile[14:-10]]+\"Eighteen\",fit_s.floatParsFinal().find(\"ZGammaBkgPhotonSF\").getVal(),fit_s.floatParsFinal().find(\"r\").getErrorLo(),fit_s.floatParsFinal().find(\"ZGammaBkgPhotonSF\").getErrorHi())\n",
    "    line += \"\\\\newcommand{\\\\%s} {\\ensuremath{%.3f \\\\substack{%.3f \\\\\\\\ +%.3f}}}\\n\"%(CRDictWGamma[ifile[14:-10]]+\"Eighteen\",fit_s.floatParsFinal().find(\"WGammaBkgPhotonSF\").getVal(),fit_s.floatParsFinal().find(\"r\").getErrorLo(),fit_s.floatParsFinal().find(\"WGammaBkgPhotonSF\").getErrorHi())\n",
    "\n",
    "\n",
    "with open(\"MisIDEleSFvalues.tex\",\"w\") as _file:\n",
    "    _file.write(line)\n",
    "\n"
   ]
  },
  {
   "cell_type": "code",
   "execution_count": 16,
   "metadata": {},
   "outputs": [
    {
     "name": "stdout",
     "output_type": "stream",
     "text": [
      "\\newcommand{\\misIDsfCRallSixteen} {\\ensuremath{2.132 \\substack{-0.022 \\\\ +0.022}}}\r\n",
      "\\newcommand{\\zGammasfCRallSixteen} {\\ensuremath{0.984 \\substack{-0.022 \\\\ +0.025}}}\r\n",
      "\\newcommand{\\wGammasfCRallSixteen} {\\ensuremath{1.191 \\substack{-0.022 \\\\ +0.022}}}\r\n",
      "\\newcommand{\\misIDsfCRoneSixteen} {\\ensuremath{2.134 \\substack{-0.024 \\\\ +0.025}}}\r\n",
      "\\newcommand{\\zGammasfCRoneSixteen} {\\ensuremath{0.919 \\substack{-0.024 \\\\ +0.026}}}\r\n",
      "\\newcommand{\\wGammasfCRoneSixteen} {\\ensuremath{1.264 \\substack{-0.024 \\\\ +0.026}}}\r\n",
      "\\newcommand{\\misIDsfCRtwoSixteen} {\\ensuremath{2.202 \\substack{-0.057 \\\\ +0.057}}}\r\n",
      "\\newcommand{\\zGammasfCRtwoSixteen} {\\ensuremath{1.179 \\substack{-0.057 \\\\ +0.074}}}\r\n",
      "\\newcommand{\\wGammasfCRtwoSixteen} {\\ensuremath{1.006 \\substack{-0.057 \\\\ +0.048}}}\r\n",
      "\\newcommand{\\misIDsfCRthreeSixteen} {\\ensuremath{2.048 \\substack{-0.106 \\\\ +0.109}}}\r\n",
      "\\newcommand{\\zGammasfCRthreeSixteen} {\\ensuremath{1.314 \\substack{-0.106 \\\\ +0.190}}}\r\n",
      "\\newcommand{\\wGammasfCRthreeSixteen} {\\ensuremath{1.313 \\substack{-0.106 \\\\ +0.093}}}\r\n",
      "\\newcommand{\\misIDsfCRfourSixteen} {\\ensuremath{2.346 \\substack{-0.087 \\\\ +0.089}}}\r\n",
      "\\newcommand{\\zGammasfCRfourSixteen} {\\ensuremath{0.952 \\substack{-0.087 \\\\ +0.110}}}\r\n",
      "\\newcommand{\\wGammasfCRfourSixteen} {\\ensuremath{0.948 \\substack{-0.087 \\\\ +0.193}}}\r\n",
      "\\newcommand{\\misIDsfCRallSeventeen} {\\ensuremath{2.386 \\substack{-0.018 \\\\ +0.018}}}\r\n",
      "\\newcommand{\\zGammasfCRallSeventeen} {\\ensuremath{1.097 \\substack{-0.018 \\\\ +0.024}}}\r\n",
      "\\newcommand{\\wGammasfCRallSeventeen} {\\ensuremath{1.402 \\substack{-0.018 \\\\ +0.024}}}\r\n",
      "\\newcommand{\\misIDsfCRoneSeventeen} {\\ensuremath{2.397 \\substack{-0.020 \\\\ +0.020}}}\r\n",
      "\\newcommand{\\zGammasfCRoneSeventeen} {\\ensuremath{1.062 \\substack{-0.020 \\\\ +0.024}}}\r\n",
      "\\newcommand{\\wGammasfCRoneSeventeen} {\\ensuremath{1.311 \\substack{-0.020 \\\\ +0.027}}}\r\n",
      "\\newcommand{\\misIDsfCRtwoSeventeen} {\\ensuremath{2.351 \\substack{-0.044 \\\\ +0.044}}}\r\n",
      "\\newcommand{\\zGammasfCRtwoSeventeen} {\\ensuremath{1.080 \\substack{-0.044 \\\\ +0.068}}}\r\n",
      "\\newcommand{\\wGammasfCRtwoSeventeen} {\\ensuremath{1.727 \\substack{-0.044 \\\\ +0.056}}}\r\n",
      "\\newcommand{\\misIDsfCRthreeSeventeen} {\\ensuremath{2.349 \\substack{-0.089 \\\\ +0.090}}}\r\n",
      "\\newcommand{\\zGammasfCRthreeSeventeen} {\\ensuremath{2.647 \\substack{-0.089 \\\\ +0.219}}}\r\n",
      "\\newcommand{\\wGammasfCRthreeSeventeen} {\\ensuremath{1.350 \\substack{-0.089 \\\\ +0.110}}}\r\n",
      "\\newcommand{\\misIDsfCRfourSeventeen} {\\ensuremath{2.329 \\substack{-0.068 \\\\ +0.069}}}\r\n",
      "\\newcommand{\\zGammasfCRfourSeventeen} {\\ensuremath{0.775 \\substack{-0.068 \\\\ +0.124}}}\r\n",
      "\\newcommand{\\wGammasfCRfourSeventeen} {\\ensuremath{2.504 \\substack{-0.068 \\\\ +0.236}}}\r\n",
      "\\newcommand{\\misIDsfCRallEighteen} {\\ensuremath{1.454 \\substack{-0.011 \\\\ +0.011}}}\r\n",
      "\\newcommand{\\zGammasfCRallEighteen} {\\ensuremath{0.943 \\substack{-0.011 \\\\ +0.020}}}\r\n",
      "\\newcommand{\\wGammasfCRallEighteen} {\\ensuremath{1.574 \\substack{-0.011 \\\\ +0.021}}}\r\n",
      "\\newcommand{\\misIDsfCRoneEighteen} {\\ensuremath{1.610 \\substack{-0.012 \\\\ +0.012}}}\r\n",
      "\\newcommand{\\zGammasfCRoneEighteen} {\\ensuremath{0.798 \\substack{-0.012 \\\\ +0.021}}}\r\n",
      "\\newcommand{\\wGammasfCRoneEighteen} {\\ensuremath{1.575 \\substack{-0.012 \\\\ +0.024}}}\r\n",
      "\\newcommand{\\misIDsfCRtwoEighteen} {\\ensuremath{1.153 \\substack{-0.024 \\\\ +0.024}}}\r\n",
      "\\newcommand{\\zGammasfCRtwoEighteen} {\\ensuremath{1.608 \\substack{-0.024 \\\\ +0.055}}}\r\n",
      "\\newcommand{\\wGammasfCRtwoEighteen} {\\ensuremath{1.413 \\substack{-0.024 \\\\ +0.043}}}\r\n",
      "\\newcommand{\\misIDsfCRthreeEighteen} {\\ensuremath{1.664 \\substack{-0.055 \\\\ +0.056}}}\r\n",
      "\\newcommand{\\zGammasfCRthreeEighteen} {\\ensuremath{1.569 \\substack{-0.055 \\\\ +0.185}}}\r\n",
      "\\newcommand{\\wGammasfCRthreeEighteen} {\\ensuremath{1.857 \\substack{-0.055 \\\\ +0.093}}}\r\n",
      "\\newcommand{\\misIDsfCRfourEighteen} {\\ensuremath{1.700 \\substack{-0.040 \\\\ +0.041}}}\r\n",
      "\\newcommand{\\zGammasfCRfourEighteen} {\\ensuremath{1.218 \\substack{-0.040 \\\\ +0.089}}}\r\n",
      "\\newcommand{\\wGammasfCRfourEighteen} {\\ensuremath{1.487 \\substack{-0.040 \\\\ +0.125}}}\r\n"
     ]
    }
   ],
   "source": [
    "!cat MisIDEleSFvalues.tex\n",
    "\n",
    "# ## copy the file to plotting folder\n",
    "# !cp MisIDEleSFvalues.tex ../AllTexFiles "
   ]
  },
  {
   "cell_type": "code",
   "execution_count": null,
   "metadata": {},
   "outputs": [],
   "source": []
  }
 ],
 "metadata": {
  "kernelspec": {
   "display_name": "Python 2",
   "language": "python",
   "name": "python2"
  },
  "language_info": {
   "codemirror_mode": {
    "name": "ipython",
    "version": 2
   },
   "file_extension": ".py",
   "mimetype": "text/x-python",
   "name": "python",
   "nbconvert_exporter": "python",
   "pygments_lexer": "ipython2",
   "version": "2.7.14+"
  }
 },
 "nbformat": 4,
 "nbformat_minor": 2
}
