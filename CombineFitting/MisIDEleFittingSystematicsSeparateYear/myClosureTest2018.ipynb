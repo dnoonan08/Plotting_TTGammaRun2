{
 "cells": [
  {
   "cell_type": "code",
   "execution_count": 3,
   "metadata": {},
   "outputs": [],
   "source": [
    "from __future__ import print_function\n",
    "import ROOT\n",
    "import numpy\n",
    "import array"
   ]
  },
  {
   "cell_type": "code",
   "execution_count": 4,
   "metadata": {},
   "outputs": [
    {
     "name": "stderr",
     "output_type": "stream",
     "text": [
      "Warning in <TCanvas::Constructor>: Deleting canvas with same name: c1\n",
      "Info in <TCanvas::Print>: pdf file misID_closure_2018_3.pdf has been created\n"
     ]
    },
    {
     "data": {
      "image/png": "[encoded data removed]",
      "text/plain": [
       "<IPython.core.display.Image object>"
      ]
     },
     "metadata": {},
     "output_type": "display_data"
    }
   ],
   "source": [
    "ListOfFiles = [\n",
    "               \"fitDiagnosticsdatacard_CR123_2018_nbins3_0.4.root\",\n",
    "               \"fitDiagnosticsdatacard_CR123_2018_nbins3_0.6.root\",\n",
    "               \"fitDiagnosticsdatacard_CR123_2018_nbins3_0.8.root\",\n",
    "               \"fitDiagnosticsdatacard_CR123_2018_nbins3_1.0.root\",\n",
    "               \"fitDiagnosticsdatacard_CR123_2018_nbins3_1.2.root\",\n",
    "               \"fitDiagnosticsdatacard_CR123_2018_nbins3_1.4.root\",\n",
    "               \"fitDiagnosticsdatacard_CR123_2018_nbins3_1.6.root\",\n",
    "               \"fitDiagnosticsdatacard_CR123_2018_nbins3_1.8.root\",\n",
    "               \"fitDiagnosticsdatacard_CR123_2018_nbins3_2.0.root\",\n",
    "               \"fitDiagnosticsdatacard_CR123_2018_nbins3_2.2.root\",\n",
    "               \"fitDiagnosticsdatacard_CR123_2018_nbins3_2.4.root\",\n",
    "               \"fitDiagnosticsdatacard_CR123_2018_nbins3_2.6.root\",\n",
    "              ]\n",
    "c1 = ROOT.TCanvas( 'c1', 'Asimov vs expected signal strength', 200, 10, 700, 500 )\n",
    "c1.SetGrid()\n",
    "\n",
    "xData = list(numpy.arange(0.4,2.8,0.2))\n",
    "yData = []\n",
    "n = len(xData)\n",
    "errMinusData = []\n",
    "errPlusData = []\n",
    "zerosData = []\n",
    "for ifile in ListOfFiles:\n",
    "    zerosData.append(0)\n",
    "#     print (ifile[14:-5])\n",
    "    myfile = ROOT.TFile(ifile,\"read\")\n",
    "    if myfile.GetListOfKeys().Contains(\"fit_s\") is False:\n",
    "        print (ifile[14:-5], \"fit_s could not find. \")\n",
    "        continue\n",
    "    fit_s = myfile.Get(\"fit_s\")\n",
    "    yData.append(fit_s.floatParsFinal().find(\"r\").getVal())\n",
    "    errMinusData.append(abs(fit_s.floatParsFinal().find(\"r\").getErrorLo()))\n",
    "    errPlusData.append(fit_s.floatParsFinal().find(\"r\").getErrorHi())\n",
    "\n",
    "#     yData.append(fit_s.floatParsFinal().find(\"nonPromptSF\").getVal())\n",
    "#     errMinusData.append(abs(fit_s.floatParsFinal().find(\"nonPromptSF\").getErrorLo()))\n",
    "#     errPlusData.append(fit_s.floatParsFinal().find(\"nonPromptSF\").getErrorHi())\n",
    "\n",
    "x = array.array( 'f', xData )\n",
    "y = array.array( 'f', yData )\n",
    "errMinus = array.array( 'f', errMinusData )\n",
    "errPlus  = array.array( 'f', errPlusData )\n",
    "zeros = array.array('f',zerosData)\n",
    "\n",
    "gr = ROOT.TGraphAsymmErrors( n, x, y, zeros,zeros,errMinus, errPlus)\n",
    "gr.SetTitle('Toy fitting of for misIDEle SF with 200 iteration')\n",
    "gr.GetXaxis().SetTitle(\"Expected misIDEle SF\");\n",
    "gr.GetYaxis().SetTitle(\"Asimov misIDEle SF\");\n",
    "gr.SetMarkerColor(2)\n",
    "gr.SetMarkerStyle(7)\n",
    "gr.GetXaxis().SetRangeUser(0,3)\n",
    "gr.GetYaxis().SetRangeUser(0,3)\n",
    "# gr.SetMarkerSize(3)\n",
    "gr.Draw('AP')\n",
    "\n",
    "c1.Draw()\n",
    "c1.Print(\"misID_closure_2018_3.pdf\")"
   ]
  },
  {
   "cell_type": "code",
   "execution_count": 5,
   "metadata": {},
   "outputs": [
    {
     "name": "stdout",
     "output_type": "stream",
     "text": [
      "datacard_CR123_2018_nbins6_1.0 fit_s could not find. \n"
     ]
    },
    {
     "name": "stderr",
     "output_type": "stream",
     "text": [
      "Warning in <TCanvas::Constructor>: Deleting canvas with same name: c1\n",
      "Info in <TCanvas::Print>: pdf file misID_closure_2018_6.pdf has been created\n"
     ]
    },
    {
     "data": {
      "image/png": "[encoded data removed]",
      "text/plain": [
       "<IPython.core.display.Image object>"
      ]
     },
     "metadata": {},
     "output_type": "display_data"
    }
   ],
   "source": [
    "ListOfFiles = [\n",
    "               \"fitDiagnosticsdatacard_CR123_2018_nbins6_0.4.root\",\n",
    "               \"fitDiagnosticsdatacard_CR123_2018_nbins6_0.6.root\",\n",
    "               \"fitDiagnosticsdatacard_CR123_2018_nbins6_0.8.root\",\n",
    "               \"fitDiagnosticsdatacard_CR123_2018_nbins6_1.0.root\",\n",
    "               \"fitDiagnosticsdatacard_CR123_2018_nbins6_1.2.root\",\n",
    "               \"fitDiagnosticsdatacard_CR123_2018_nbins6_1.4.root\",\n",
    "               \"fitDiagnosticsdatacard_CR123_2018_nbins6_1.6.root\",\n",
    "               \"fitDiagnosticsdatacard_CR123_2018_nbins6_1.8.root\",\n",
    "               \"fitDiagnosticsdatacard_CR123_2018_nbins6_2.0.root\",\n",
    "               \"fitDiagnosticsdatacard_CR123_2018_nbins6_2.2.root\",\n",
    "               \"fitDiagnosticsdatacard_CR123_2018_nbins6_2.4.root\",\n",
    "               \"fitDiagnosticsdatacard_CR123_2018_nbins6_2.6.root\",\n",
    "              ]\n",
    "c1 = ROOT.TCanvas( 'c1', 'Asimov vs expected signal strength', 200, 10, 700, 500 )\n",
    "c1.SetGrid()\n",
    "\n",
    "xData = list(numpy.arange(0.4,2.8,0.2))\n",
    "yData = []\n",
    "n = len(xData)\n",
    "errMinusData = []\n",
    "errPlusData = []\n",
    "zerosData = []\n",
    "for ifile in ListOfFiles:\n",
    "    zerosData.append(0) \n",
    "#     print (ifile[14:-5])\n",
    "    myfile = ROOT.TFile(ifile,\"read\")\n",
    "    if myfile.GetListOfKeys().Contains(\"fit_s\") is False:\n",
    "        print (ifile[14:-5], \"fit_s could not find. \")\n",
    "        continue\n",
    "    fit_s = myfile.Get(\"fit_s\")\n",
    "    yData.append(fit_s.floatParsFinal().find(\"r\").getVal())\n",
    "    errMinusData.append(abs(fit_s.floatParsFinal().find(\"r\").getErrorLo()))\n",
    "    errPlusData.append(fit_s.floatParsFinal().find(\"r\").getErrorHi())\n",
    "\n",
    "#     yData.append(fit_s.floatParsFinal().find(\"nonPromptSF\").getVal())\n",
    "#     errMinusData.append(abs(fit_s.floatParsFinal().find(\"nonPromptSF\").getErrorLo()))\n",
    "#     errPlusData.append(fit_s.floatParsFinal().find(\"nonPromptSF\").getErrorHi())\n",
    "\n",
    "x = array.array( 'f', xData )\n",
    "y = array.array( 'f', yData )\n",
    "errMinus = array.array( 'f', errMinusData )\n",
    "errPlus  = array.array( 'f', errPlusData )\n",
    "\n",
    "\n",
    "zeros = array.array('f',zerosData)\n",
    "\n",
    "\n",
    "gr = ROOT.TGraphAsymmErrors( n, x, y, zeros,zeros,errMinus, errPlus)\n",
    "gr.SetTitle('Toy fitting of for misIDEle SF with 200 iteration')\n",
    "gr.GetXaxis().SetTitle(\"Expected misIDEle SF\");\n",
    "gr.GetYaxis().SetTitle(\"Asimov misIDEle SF\");\n",
    "gr.SetMarkerColor(2)\n",
    "gr.SetMarkerStyle(7)\n",
    "gr.GetXaxis().SetRangeUser(0,3)\n",
    "gr.GetYaxis().SetRangeUser(0,3)\n",
    "# gr.SetMarkerSize(3)\n",
    "gr.Draw('AP')\n",
    "\n",
    "c1.Draw()\n",
    "c1.Print(\"misID_closure_2018_6.pdf\")"
   ]
  },
  {
   "cell_type": "code",
   "execution_count": 6,
   "metadata": {},
   "outputs": [
    {
     "name": "stderr",
     "output_type": "stream",
     "text": [
      "Warning in <TCanvas::Constructor>: Deleting canvas with same name: c1\n",
      "Info in <TCanvas::Print>: pdf file misID_closure_2018_9.pdf has been created\n"
     ]
    },
    {
     "data": {
      "image/png": "[encoded data removed]",
      "text/plain": [
       "<IPython.core.display.Image object>"
      ]
     },
     "metadata": {},
     "output_type": "display_data"
    }
   ],
   "source": [
    "ListOfFiles = [\n",
    "               \"fitDiagnosticsdatacard_CR123_2018_nbins9_0.4.root\",\n",
    "               \"fitDiagnosticsdatacard_CR123_2018_nbins9_0.6.root\",\n",
    "               \"fitDiagnosticsdatacard_CR123_2018_nbins9_0.8.root\",\n",
    "               \"fitDiagnosticsdatacard_CR123_2018_nbins9_1.0.root\",\n",
    "               \"fitDiagnosticsdatacard_CR123_2018_nbins9_1.2.root\",\n",
    "               \"fitDiagnosticsdatacard_CR123_2018_nbins9_1.4.root\",\n",
    "               \"fitDiagnosticsdatacard_CR123_2018_nbins9_1.6.root\",\n",
    "               \"fitDiagnosticsdatacard_CR123_2018_nbins9_1.8.root\",\n",
    "               \"fitDiagnosticsdatacard_CR123_2018_nbins9_2.0.root\",\n",
    "               \"fitDiagnosticsdatacard_CR123_2018_nbins9_2.2.root\",\n",
    "               \"fitDiagnosticsdatacard_CR123_2018_nbins9_2.4.root\",\n",
    "               \"fitDiagnosticsdatacard_CR123_2018_nbins9_2.6.root\",\n",
    "              ]\n",
    "c1 = ROOT.TCanvas( 'c1', 'Asimov vs expected signal strength', 200, 10, 700, 500 )\n",
    "c1.SetGrid()\n",
    "\n",
    "xData = list(numpy.arange(0.4,2.8,0.2))\n",
    "yData = []\n",
    "n = len(xData)\n",
    "errMinusData = []\n",
    "errPlusData = []\n",
    "zerosData = []\n",
    "for ifile in ListOfFiles:\n",
    "    zerosData.append(0)\n",
    "#     print (ifile[14:-5])\n",
    "    myfile = ROOT.TFile(ifile,\"read\")\n",
    "    if myfile.GetListOfKeys().Contains(\"fit_s\") is False:\n",
    "        print (ifile[14:-5], \"fit_s could not find. \")\n",
    "        continue\n",
    "    fit_s = myfile.Get(\"fit_s\")\n",
    "    yData.append(fit_s.floatParsFinal().find(\"r\").getVal())\n",
    "    errMinusData.append(abs(fit_s.floatParsFinal().find(\"r\").getErrorLo()))\n",
    "    errPlusData.append(fit_s.floatParsFinal().find(\"r\").getErrorHi())\n",
    "\n",
    "#     yData.append(fit_s.floatParsFinal().find(\"nonPromptSF\").getVal())\n",
    "#     errMinusData.append(abs(fit_s.floatParsFinal().find(\"nonPromptSF\").getErrorLo()))\n",
    "#     errPlusData.append(fit_s.floatParsFinal().find(\"nonPromptSF\").getErrorHi())\n",
    "\n",
    "x = array.array( 'f', xData )\n",
    "y = array.array( 'f', yData )\n",
    "errMinus = array.array( 'f', errMinusData )\n",
    "errPlus  = array.array( 'f', errPlusData )\n",
    "zeros = array.array('f',zerosData)\n",
    "\n",
    "\n",
    "gr = ROOT.TGraphAsymmErrors( n, x, y,zeros,zeros,errMinus, errPlus)\n",
    "gr.SetTitle('Toy fitting of for misIDEle SF with 200 iteration')\n",
    "gr.GetXaxis().SetTitle(\"Expected misIDEle SF\");\n",
    "gr.GetYaxis().SetTitle(\"Asimov misIDEle SF\");\n",
    "gr.SetMarkerColor(2)\n",
    "gr.SetMarkerStyle(7)\n",
    "gr.GetXaxis().SetRangeUser(0,3)\n",
    "gr.GetYaxis().SetRangeUser(0,3)\n",
    "# gr.SetMarkerSize(3)\n",
    "gr.Draw('AP')\n",
    "\n",
    "c1.Draw()\n",
    "c1.Print(\"misID_closure_2018_9.pdf\")"
   ]
  },
  {
   "cell_type": "code",
   "execution_count": null,
   "metadata": {},
   "outputs": [],
   "source": []
  },
  {
   "cell_type": "code",
   "execution_count": null,
   "metadata": {},
   "outputs": [],
   "source": []
  },
  {
   "cell_type": "code",
   "execution_count": null,
   "metadata": {},
   "outputs": [],
   "source": []
  },
  {
   "cell_type": "code",
   "execution_count": null,
   "metadata": {},
   "outputs": [],
   "source": []
  },
  {
   "cell_type": "code",
   "execution_count": null,
   "metadata": {},
   "outputs": [],
   "source": []
  }
 ],
 "metadata": {
  "kernelspec": {
   "display_name": "Python 2",
   "language": "python",
   "name": "python2"
  },
  "language_info": {
   "codemirror_mode": {
    "name": "ipython",
    "version": 2
   },
   "file_extension": ".py",
   "mimetype": "text/x-python",
   "name": "python",
   "nbconvert_exporter": "python",
   "pygments_lexer": "ipython2",
   "version": "2.7.14+"
  }
 },
 "nbformat": 4,
 "nbformat_minor": 2
}
