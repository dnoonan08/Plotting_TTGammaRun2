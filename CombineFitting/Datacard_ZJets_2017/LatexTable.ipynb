{
 "cells": [
  {
   "cell_type": "code",
   "execution_count": 6,
   "metadata": {},
   "outputs": [
    {
     "name": "stdout",
     "output_type": "stream",
     "text": [
      "/uscms_data/d3/npoudyal/TTGammaSemiLeptonic13TeV/CMSSW_10_2_14/src/TTGammaSemiLep_13TeV/Plotting_Nabin/Plotting/CombineFitting/Datacard_ZJets_2017\r\n"
     ]
    }
   ],
   "source": [
    "import uproot\n",
    "!pwd"
   ]
  },
  {
   "cell_type": "code",
   "execution_count": 7,
   "metadata": {},
   "outputs": [],
   "source": [
    "ListOfFiles = [\"fitDiagnosticsAR_both.root\", \"fitDiagnosticsCR123_both.root\", \"fitDiagnosticsCR1_both.root\",  \"fitDiagnosticsCR2_both.root\", \"fitDiagnosticsCR3_both.root\",\n",
    "\t\t\t   \"fitDiagnosticsCR4_both.root\", \"fitDiagnosticsCR5_both.root\", \"fitDiagnosticsCR6_both.root\", \"fitDiagnosticsCR7_both.root\",  \"fitDiagnosticsSR8_both.root\"]"
   ]
  },
  {
   "cell_type": "code",
   "execution_count": 8,
   "metadata": {},
   "outputs": [],
   "source": [
    "controlRegionDict ={\"SR8\":\"tight\", \"CR123\":\"looseCRge2e0\", \"AR\":\"looseCRge2ge0\", \"CR7\":\"looseCRe3ge2\", \"CR3\":\"looseCRge4e0\", \"CR2\":\"looseCRe3e0\", \n",
    "\t\t\t\t   \"CR4\":\"looseCRe2e1\", \"CR1\":\"looseCRe2e0\", \"CR6\":\"looseCRe2e2\", \"CR5\":\"looseCRe3e1\" }"
   ]
  },
  {
   "cell_type": "code",
   "execution_count": 9,
   "metadata": {},
   "outputs": [
    {
     "name": "stdout",
     "output_type": "stream",
     "text": [
      "\\hline\n",
      "Control Regions & ZJetsSF 2017 \\\\\n",
      "\\hline\n",
      "AR & $ 1.299 \\substack{ -0.003 \\\\ + 0.003 }$ \\\\\n",
      "CR123 & $ 1.299 \\substack{ -0.003 \\\\ + 0.003 }$ \\\\\n",
      "CR1 & $ 1.298 \\substack{ -0.003 \\\\ + 0.003 }$ \\\\\n",
      "CR2 & $ 1.308 \\substack{ -0.007 \\\\ + 0.007 }$ \\\\\n",
      "CR3 & $ 1.287 \\substack{ -0.012 \\\\ + 0.012 }$ \\\\\n",
      "CR4 & $ 1.321 \\substack{ -0.011 \\\\ + 0.011 }$ \\\\\n",
      "CR5 & $ 1.441 \\substack{ -0.021 \\\\ + 0.021 }$ \\\\\n",
      "CR6 & $ 1.199 \\substack{ -0.03 \\\\ + 0.031 }$ \\\\\n",
      "CR7 & $ 1.292 \\substack{ -0.046 \\\\ + 0.049 }$ \\\\\n",
      "SR8 & $ 1.466 \\substack{ -0.031 \\\\ + 0.032 }$ \\\\\n"
     ]
    }
   ],
   "source": [
    "print \"\\\\hline\"\n",
    "print \"Control Regions & ZJetsSF 2017 \\\\\\\\\"\n",
    "print \"\\\\hline\"\n",
    "for ifile in ListOfFiles:\n",
    "    itree = uproot.open(ifile)[\"tree_fit_sb\"]\n",
    "    print ifile[14:-10],\"&\",\"$\",round(itree.array(\"r\"),3),\"\\substack{\" ,-round(itree.array(\"rLoErr\"),3),\"\\\\\\\\\", \"+\",round(itree.array(\"rHiErr\"),3),\"}$ \\\\\\\\\""
   ]
  },
  {
   "cell_type": "code",
   "execution_count": 10,
   "metadata": {},
   "outputs": [
    {
     "name": "stdout",
     "output_type": "stream",
     "text": [
      "/uscms_data/d3/npoudyal/TTGammaSemiLeptonic13TeV/CMSSW_10_2_14/src/TTGammaSemiLep_13TeV/Plotting_Nabin/Plotting/CombineFitting/Datacard_ZJets_2017\n",
      "AR looseCRge2ge0 ZJetSF= 1.299 ;\n",
      "CR123 looseCRge2e0 ZJetSF= 1.299 ;\n",
      "CR1 looseCRe2e0 ZJetSF= 1.298 ;\n",
      "CR2 looseCRe3e0 ZJetSF= 1.308 ;\n",
      "CR3 looseCRge4e0 ZJetSF= 1.287 ;\n",
      "CR4 looseCRe2e1 ZJetSF= 1.321 ;\n",
      "CR5 looseCRe3e1 ZJetSF= 1.441 ;\n",
      "CR6 looseCRe2e2 ZJetSF= 1.199 ;\n",
      "CR7 looseCRe3ge2 ZJetSF= 1.292 ;\n",
      "SR8 tight ZJetSF= 1.466 ;\n",
      "[1.299, 1.299, 1.298, 1.308, 1.287, 1.321, 1.441, 1.199, 1.292, 1.466]\n"
     ]
    }
   ],
   "source": [
    "!pwd\n",
    "myArray = []\n",
    "for ifile in ListOfFiles:\n",
    "    itree = uproot.open(ifile)[\"tree_fit_sb\"]\n",
    "    print ifile[14:-10],controlRegionDict[ifile[14:-10]],\"ZJetSF=\",round(itree.array(\"r\"),3),\";\"\n",
    "    myArray.append(round(itree.array(\"r\"),3))\n",
    "print myArray"
   ]
  },
  {
   "cell_type": "code",
   "execution_count": null,
   "metadata": {},
   "outputs": [],
   "source": []
  }
 ],
 "metadata": {
  "kernelspec": {
   "display_name": "Python 2",
   "language": "python",
   "name": "python2"
  },
  "language_info": {
   "codemirror_mode": {
    "name": "ipython",
    "version": 2
   },
   "file_extension": ".py",
   "mimetype": "text/x-python",
   "name": "python",
   "nbconvert_exporter": "python",
   "pygments_lexer": "ipython2",
   "version": "2.7.14+"
  }
 },
 "nbformat": 4,
 "nbformat_minor": 2
}
