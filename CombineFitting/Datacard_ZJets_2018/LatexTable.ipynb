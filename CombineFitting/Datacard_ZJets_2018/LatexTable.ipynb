{
 "cells": [
  {
   "cell_type": "code",
   "execution_count": 6,
   "metadata": {},
   "outputs": [
    {
     "name": "stdout",
     "output_type": "stream",
     "text": [
      "/uscms_data/d3/npoudyal/TTGammaSemiLeptonic13TeV/CMSSW_10_2_14/src/TTGammaSemiLep_13TeV/Plotting_Nabin/Plotting/CombineFitting/Datacard_ZJets_2018\r\n"
     ]
    }
   ],
   "source": [
    "import uproot\n",
    "!pwd"
   ]
  },
  {
   "cell_type": "code",
   "execution_count": 7,
   "metadata": {},
   "outputs": [],
   "source": [
    "ListOfFiles = [\"fitDiagnosticsAR_both.root\", \"fitDiagnosticsCR123_both.root\", \"fitDiagnosticsCR1_both.root\",  \"fitDiagnosticsCR2_both.root\", \"fitDiagnosticsCR3_both.root\",\n",
    "\t\t\t   \"fitDiagnosticsCR4_both.root\", \"fitDiagnosticsCR5_both.root\", \"fitDiagnosticsCR6_both.root\", \"fitDiagnosticsCR7_both.root\",  \"fitDiagnosticsSR8_both.root\"]"
   ]
  },
  {
   "cell_type": "code",
   "execution_count": 8,
   "metadata": {},
   "outputs": [],
   "source": [
    "controlRegionDict ={\"SR8\":\"tight\", \"CR123\":\"looseCRge2e0\", \"AR\":\"looseCRge2ge0\", \"CR7\":\"looseCRe3ge2\", \"CR3\":\"looseCRge4e0\", \"CR2\":\"looseCRe3e0\", \n",
    "\t\t\t\t   \"CR4\":\"looseCRe2e1\", \"CR1\":\"looseCRe2e0\", \"CR6\":\"looseCRe2e2\", \"CR5\":\"looseCRe3e1\" }"
   ]
  },
  {
   "cell_type": "code",
   "execution_count": 9,
   "metadata": {},
   "outputs": [
    {
     "name": "stdout",
     "output_type": "stream",
     "text": [
      "\\hline\n",
      "Control Regions & ZJetsSF 2018 \\\\\n",
      "\\hline\n",
      "AR & $ 1.26 \\substack{ -0.003 \\\\ + 0.003 }$ \\\\\n",
      "CR123 & $ 1.26 \\substack{ -0.003 \\\\ + 0.003 }$ \\\\\n",
      "CR1 & $ 1.262 \\substack{ -0.003 \\\\ + 0.003 }$ \\\\\n",
      "CR2 & $ 1.258 \\substack{ -0.006 \\\\ + 0.006 }$ \\\\\n",
      "CR3 & $ 1.242 \\substack{ -0.011 \\\\ + 0.012 }$ \\\\\n",
      "CR4 & $ 1.33 \\substack{ -0.01 \\\\ + 0.01 }$ \\\\\n",
      "CR5 & $ 1.475 \\substack{ -0.02 \\\\ + 0.021 }$ \\\\\n",
      "CR6 & $ 1.264 \\substack{ -0.029 \\\\ + 0.03 }$ \\\\\n",
      "CR7 & $ 1.382 \\substack{ -0.044 \\\\ + 0.047 }$ \\\\\n",
      "SR8 & $ 1.546 \\substack{ -0.031 \\\\ + 0.032 }$ \\\\\n"
     ]
    }
   ],
   "source": [
    "print \"\\\\hline\"\n",
    "print \"Control Regions & ZJetsSF 2018 \\\\\\\\\"\n",
    "print \"\\\\hline\"\n",
    "for ifile in ListOfFiles:\n",
    "    itree = uproot.open(ifile)[\"tree_fit_sb\"]\n",
    "    print ifile[14:-10],\"&\",\"$\",round(itree.array(\"r\"),3),\"\\substack{\" ,-round(itree.array(\"rLoErr\"),3),\"\\\\\\\\\", \"+\",round(itree.array(\"rHiErr\"),3),\"}$ \\\\\\\\\""
   ]
  },
  {
   "cell_type": "code",
   "execution_count": 10,
   "metadata": {},
   "outputs": [
    {
     "name": "stdout",
     "output_type": "stream",
     "text": [
      "/uscms_data/d3/npoudyal/TTGammaSemiLeptonic13TeV/CMSSW_10_2_14/src/TTGammaSemiLep_13TeV/Plotting_Nabin/Plotting/CombineFitting/Datacard_ZJets_2018\n",
      "AR looseCRge2ge0 ZJetSF= 1.26 ;\n",
      "CR123 looseCRge2e0 ZJetSF= 1.26 ;\n",
      "CR1 looseCRe2e0 ZJetSF= 1.262 ;\n",
      "CR2 looseCRe3e0 ZJetSF= 1.258 ;\n",
      "CR3 looseCRge4e0 ZJetSF= 1.242 ;\n",
      "CR4 looseCRe2e1 ZJetSF= 1.33 ;\n",
      "CR5 looseCRe3e1 ZJetSF= 1.475 ;\n",
      "CR6 looseCRe2e2 ZJetSF= 1.264 ;\n",
      "CR7 looseCRe3ge2 ZJetSF= 1.382 ;\n",
      "SR8 tight ZJetSF= 1.546 ;\n",
      "[1.26, 1.26, 1.262, 1.258, 1.242, 1.33, 1.475, 1.264, 1.382, 1.546]\n"
     ]
    }
   ],
   "source": [
    "!pwd\n",
    "myArray = []\n",
    "for ifile in ListOfFiles:\n",
    "    itree = uproot.open(ifile)[\"tree_fit_sb\"]\n",
    "    print ifile[14:-10],controlRegionDict[ifile[14:-10]],\"ZJetSF=\",round(itree.array(\"r\"),3),\";\"\n",
    "    myArray.append(round(itree.array(\"r\"),3))\n",
    "print myArray"
   ]
  },
  {
   "cell_type": "code",
   "execution_count": null,
   "metadata": {},
   "outputs": [],
   "source": []
  }
 ],
 "metadata": {
  "kernelspec": {
   "display_name": "Python 2",
   "language": "python",
   "name": "python2"
  },
  "language_info": {
   "codemirror_mode": {
    "name": "ipython",
    "version": 2
   },
   "file_extension": ".py",
   "mimetype": "text/x-python",
   "name": "python",
   "nbconvert_exporter": "python",
   "pygments_lexer": "ipython2",
   "version": "2.7.14+"
  }
 },
 "nbformat": 4,
 "nbformat_minor": 2
}
